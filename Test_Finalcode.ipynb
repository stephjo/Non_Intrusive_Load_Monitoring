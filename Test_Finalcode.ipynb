{
 "cells": [
  {
   "cell_type": "markdown",
   "metadata": {},
   "source": [
    "<h3>Non intrusive load monitoring</h3>\n",
    "<h4>Project Summary</h4>\n",
    "\n",
    "Objective - to build a machine learning based algorithm thatautomatically and accurately identifies what appliances are connected to the power supply.This is a multilabel multiclass classification problem.\n",
    "\n",
    "<h5>Steps:</h5>\n",
    "\n",
    "-Read the train and test datasets.\n",
    "\n",
    "-Perform Kmeans clustering on training datasets and assign label to each of the dataset based on the clusters.\n",
    "\n",
    "-Merge 3 datasets into one which gives combined load info and device states,so that its similar to test data format.\n",
    "\n",
    "-Drop unnecessary columns - Date:-Date column can be dropped as the datetime values are mutually exclusive in all 3 datasets.\n",
    "\n",
    "-Normalise dataset (which is not necessary as the model is Randomforest).\n",
    "\n",
    "-Initialise the model using LabelPowerSet(skmultilearn library), a problem transformation technique for multilabel problem.http://scikit.ml/api/skmultilearn.problem_transform.lp.html#skmultilearn.problem_transform.LabelPowerset\n",
    "\n",
    "-Perform stratified crossvalidation on the dataset using MultiLabelStratifiedKfold method(iterstrat.ml_stratifiers library).\n",
    "\n",
    "-Apply trained model on preprocessed test dataset.\n",
    "\n",
    "-Make Predictions and save results.\n",
    "\n",
    "<h5>Drawbacks:</h5>\n",
    "\n",
    "-Model was able to predict multiple labels,however couldn't predict multiple classes.Model was able to predict binary classes for each label i.e For PC1 and PC2 model predicted 'on' and 'off' state,but 'idle state'.\n",
    "\n",
    "-Training dataset was labelled based on assumptions derived from cluster assignments which may not be true.\n",
    "\n",
    "\n",
    "<h5>Future improvements:</h5>\n",
    "\n",
    "-Try different models and methods to solve a multilabel multiclass classification problem.\n",
    "\n",
    "-Explore non intrusive load monitoring techniques.\n",
    "\n",
    "<h6>Reference:</h6>\n",
    "\n",
    "https://www.analyticsvidhya.com/blog/2017/08/introduction-to-multi-label-classification/\n",
    "\n",
    "http://scikit.ml/api/skmultilearn.problem_transform.lp.html#skmultilearn.problem_transform.LabelPowerset\n",
    "\n",
    "https://github.com/trent-b/iterative-stratification\n"
   ]
  },
  {
   "cell_type": "code",
   "execution_count": 1,
   "metadata": {},
   "outputs": [
    {
     "data": {
      "application/javascript": [
       "IPython.OutputArea.prototype._should_scroll = function(lines) {\n",
       "    return false;\n",
       "}\n"
      ],
      "text/plain": [
       "<IPython.core.display.Javascript object>"
      ]
     },
     "metadata": {},
     "output_type": "display_data"
    }
   ],
   "source": [
    "%%javascript\n",
    "IPython.OutputArea.prototype._should_scroll = function(lines) {\n",
    "    return false;\n",
    "}"
   ]
  },
  {
   "cell_type": "code",
   "execution_count": 2,
   "metadata": {},
   "outputs": [],
   "source": [
    "import pandas as pd\n",
    "import pandas_profiling\n",
    "import matplotlib.pyplot as plt\n",
    "from matplotlib.colors import ListedColormap, BoundaryNorm\n",
    "import matplotlib.patches as mpatches\n",
    "import seaborn as sns\n",
    "from sklearn.cluster import KMeans,AgglomerativeClustering\n",
    "from sklearn.preprocessing import MinMaxScaler\n",
    "import numpy as np"
   ]
  },
  {
   "cell_type": "code",
   "execution_count": 3,
   "metadata": {},
   "outputs": [],
   "source": [
    "#Functions\n",
    "def plot_labelled_scatter(X, y, class_labels):\n",
    "    '''\n",
    "    plot clusters predicted by Kmeans\n",
    "    '''\n",
    "    num_labels = len(class_labels)\n",
    "\n",
    "    marker_array = ['o', '^', '*']\n",
    "    color_array = ['#FFFF00', '#00AAFF', '#000000', '#FF00AA']\n",
    "    cmap_bold = ListedColormap(color_array)\n",
    "    bnorm = BoundaryNorm(np.arange(0, num_labels + 1, 1), ncolors=num_labels)\n",
    "    plt.figure()\n",
    "\n",
    "    plt.scatter(X[:, 0], X[:, 1], s=65, c=y, cmap=cmap_bold, norm = bnorm, alpha = 0.40, edgecolor='black', lw = 1)\n",
    "\n",
    "\n",
    "\n",
    "    h = []\n",
    "    for c in range(0, num_labels):\n",
    "        h.append(mpatches.Patch(color=color_array[c], label=class_labels[c]))\n",
    "    plt.legend(handles=h)\n",
    "\n",
    "    plt.show()\n",
    "    \n",
    "def Cross_validate(df_new,target,RF):\n",
    "    '''\n",
    "    -Randomforest model was trained on 5 stratified folds.\n",
    "    -Accuracy is used for evaluating the models trained on each fold.\n",
    "    -The predictions contain values for 3 labels.\n",
    "    -So we extracted the values for each predicted labels and calculate the accuracy labelwise.\n",
    "    -Took the average of the 3 accuracy scores as the final score\n",
    "    '''\n",
    "    \n",
    "    mskf = MultilabelStratifiedKFold(n_splits=5,random_state=0)\n",
    "    #Crossvalidating using 5 stratified KFolds\n",
    "    rf_accuracy_pc1=[]\n",
    "    rf_accuracy_pc2=[]\n",
    "    rf_accuracy_sensor=[]\n",
    "\n",
    "    for train_index, test_index in mskf.split(df_new, target):\n",
    "        train_df, test_df = df_new[train_index], df_new[test_index]\n",
    "        train_target, test_target = target[train_index], target[test_index]\n",
    "        RF.fit(train_df, train_target)\n",
    "        \n",
    "        #predicting test data outputs\n",
    "        predictions = RF.predict(test_df)\n",
    "        \n",
    "        #Get predictions for label PC1 screen state\n",
    "        extractedData1 = predictions[:,[0]]\n",
    "        z = scipy.sparse.csr_matrix(test_target)\n",
    "        extractedData2 = z[:,[0]]\n",
    "\n",
    "\n",
    "       # Flatten both the array and print the accuracy score for label PC1 screen state\n",
    "        actual1 = extractedData2.toarray().flatten()\n",
    "        predicted1 = extractedData1.toarray().flatten()\n",
    "        rf_accuracy_pc1.append(accuracy_score(actual1, predicted1))  \n",
    "\n",
    "        #Get predictions for label PC2 screen state\n",
    "        extractedData1_1 = predictions[:,[1]]\n",
    "        z1 = scipy.sparse.csr_matrix(test_target)\n",
    "        extractedData2_1 = z1[:,[1]]\n",
    "\n",
    "        # Flatten both the array and print the accuracy score for label PC2 screen state\n",
    "        actual2 = extractedData2_1.toarray().flatten()\n",
    "        predicted2 = extractedData1_1.toarray().flatten()\n",
    "        rf_accuracy_pc2.append(accuracy_score(actual2, predicted2)) \n",
    "\n",
    "        #Get predictions for label Temperature sensor state\n",
    "        extractedData1_2 = predictions[:,[2]]\n",
    "        z2 = scipy.sparse.csr_matrix(test_target)\n",
    "        extractedData2_2 = z2[:,[2]]\n",
    "\n",
    "        # Flatten both the array and print the accuracy score for label Temperature sensor state\n",
    "        actual3 = extractedData2_2.toarray().flatten()\n",
    "        predicted3 = extractedData1_2.toarray().flatten()\n",
    "        rf_accuracy_sensor.append(accuracy_score(actual3, predicted3)) \n",
    "\n",
    "\n",
    "    print(\"Accuracy score for PC1 screen state:\",np.round(np.mean(rf_accuracy_pc1),decimals=2))\n",
    "    print(\"Accuracy score for PC2 screen state:\",np.round(np.mean(rf_accuracy_pc2),decimals=2))\n",
    "    print(\"Accuracy score for for Temperature sensor state:\",np.round(np.mean(rf_accuracy_sensor),decimals=2))\n",
    "    print(\"Average Accuracy score:\", np.round(np.mean([np.mean(rf_accuracy_pc1),np.mean(rf_accuracy_pc2),np.mean(rf_accuracy_sensor)]),decimals=2))\n",
    "    return RF   \n",
    "    "
   ]
  },
  {
   "cell_type": "code",
   "execution_count": 4,
   "metadata": {},
   "outputs": [],
   "source": [
    "#Read all files"
   ]
  },
  {
   "cell_type": "code",
   "execution_count": 5,
   "metadata": {},
   "outputs": [],
   "source": [
    "df1 = pd.read_csv('test_data1536128609.98_screen1.csv', \n",
    "                  names=[\"date\", \"Maxpower\", \"Effpower\"])\n",
    "df2 = pd.read_csv('test_data1536128871.84_screen2.csv', \n",
    "                  names=[\"date\", \"Maxpower\", \"Effpower\"])\n",
    "df3 = pd.read_csv('test_data1536129261.77_device253.csv', \n",
    "                  names=[\"date\", \"Maxpower\", \"Effpower\"])\n",
    "df_test= pd.read_csv('test_data1536129670.55_main.csv', \n",
    "                  names=[\"date\", \"Maxpower\", \"Effpower\"])"
   ]
  },
  {
   "cell_type": "code",
   "execution_count": 6,
   "metadata": {},
   "outputs": [],
   "source": [
    "#Convert timestamp to readable datetime format\n",
    "df1['date'] = pd.to_datetime(df1['date'],unit='s')\n",
    "df2['date'] = pd.to_datetime(df2['date'],unit='s')\n",
    "df3['date'] = pd.to_datetime(df3['date'],unit='s')\n",
    "\n",
    "df_test['date'] = pd.to_datetime(df_test['date'],unit='s')\n"
   ]
  },
  {
   "cell_type": "markdown",
   "metadata": {},
   "source": [
    "-This is a multilabel multi class classification problem.\n",
    "\n",
    "-There are no labels provided in the training dataset.\n",
    "\n",
    "-It can be treated as a unsupervised machine learning problem.However the 3 training datasets indicates the states of individual devices ,but the Test dataset containes combined loads of 3 devices.\n",
    "\n",
    "-As the training datasets gives individual load info and no labels,I decided to convert this into a supervised problem.\n",
    "\n",
    "-I have used Kmeans clustering to find the labels for the training dataset based on the clusters predicted by the Kmeans.Assigned labels to each dataset and merged the 3 datasets of individual loads into one.\n",
    "\n",
    "-The Final merged training dataset contains combined loads of 3 devices and their states.Thus the training and test datasets have similar data."
   ]
  },
  {
   "cell_type": "markdown",
   "metadata": {},
   "source": [
    "<h4>Kmeans on PC1 screen state dataset</h4>"
   ]
  },
  {
   "cell_type": "code",
   "execution_count": 7,
   "metadata": {},
   "outputs": [
    {
     "data": {
      "image/png": "[encoded data removed]",
      "text/plain": [
       "<Figure size 432x288 with 1 Axes>"
      ]
     },
     "metadata": {
      "needs_background": "light"
     },
     "output_type": "display_data"
    }
   ],
   "source": [
    "\n",
    "kmeans_df1 = KMeans(n_clusters = 3)\n",
    "#Drop timestamp(date) column \n",
    "df1.drop(df1.columns[0],axis=1,inplace=True)\n",
    "df1_orgn=df1.copy()\n",
    "df1_norm=MinMaxScaler().fit(df1_orgn).transform(df1_orgn)\n",
    "kmeans_df1.fit(df1_norm)\n",
    "\n",
    "plot_labelled_scatter(df1_norm,kmeans_df1.labels_,['Cluster1','Cluster2','Cluster3'])\n",
    "\n",
    "#Create new column for PC1 screen state labels and Assign cluster ids\n",
    "df1['PC screen1 state'] = kmeans_df1.labels_\n",
    "# print(kmeans_df1.labels_)\n",
    "\n",
    "#cluster 1 - idle, cluster 2- on, cluster 3- off\n",
    "df1.loc[df1['PC screen1 state'] == 0, 'PC screen1 state'] = 'idle'\n",
    "df1.loc[df1['PC screen1 state'] == 1, 'PC screen1 state'] = 'on'\n",
    "df1.loc[df1['PC screen1 state'] == 2, 'PC screen1 state'] = 'off'\n",
    "\n",
    "#Assign correspoding values for the labels :\n",
    "# idle -2\n",
    "# on -1\n",
    "# off -0\n",
    "df1.loc[df1['PC screen1 state'] == 'off']\n",
    "df1.loc[df1['PC screen1 state'] == 'idle', 'PC screen1 state'] = 2\n",
    "df1.loc[df1['PC screen1 state'] == 'on', 'PC screen1 state'] = 1\n",
    "df1.loc[df1['PC screen1 state'] == 'off', 'PC screen1 state'] = 0"
   ]
  },
  {
   "cell_type": "markdown",
   "metadata": {},
   "source": [
    "<h4>Kmeans on PC2 screen state dataset</h4>"
   ]
  },
  {
   "cell_type": "code",
   "execution_count": 8,
   "metadata": {},
   "outputs": [
    {
     "data": {
      "image/png": "[encoded data removed]",
      "text/plain": [
       "<Figure size 432x288 with 1 Axes>"
      ]
     },
     "metadata": {
      "needs_background": "light"
     },
     "output_type": "display_data"
    }
   ],
   "source": [
    "kmeans_df2 = KMeans(n_clusters = 3)\n",
    "df2.drop(df2.columns[0],axis=1,inplace=True)\n",
    "df2_orgn=df2.copy()\n",
    "df2_norm=MinMaxScaler().fit(df2_orgn).transform(df2_orgn)\n",
    "kmeans_df2.fit(df2_norm)\n",
    "\n",
    "plot_labelled_scatter(df2_norm,kmeans_df2.labels_,['Cluster1','Cluster2','Cluster3'])\n",
    "\n",
    "#Create new column for PC2 screen state labels and Assign cluster ids\n",
    "df2['PC screen2 state'] = kmeans_df2.labels_\n",
    "\n",
    "#cluster 1 - idle, cluster 2- on, cluster 3- off\n",
    "df2.loc[df2['PC screen2 state'] == 1, 'PC screen2 state'] = 'on'\n",
    "df2.loc[df2['PC screen2 state'] == 2, 'PC screen2 state'] = 'off'\n",
    "df2.loc[df2['PC screen2 state'] == 0,'PC screen2 state'] = 'idle'\n",
    "\n",
    "#Reassign meaningful values for the labels :\n",
    "# idle -2\n",
    "# on -1\n",
    "# off -0\n",
    "df2.loc[df2['PC screen2 state'] == 'on', 'PC screen2 state'] = 1\n",
    "df2.loc[df2['PC screen2 state'] == 'idle', 'PC screen2 state'] = 2\n",
    "df2.loc[df2['PC screen2 state'] == 'off','PC screen2 state'] = 0"
   ]
  },
  {
   "cell_type": "markdown",
   "metadata": {},
   "source": [
    "<h4>Kmeans on Temperature sensor state dataset</h4>"
   ]
  },
  {
   "cell_type": "code",
   "execution_count": 9,
   "metadata": {},
   "outputs": [
    {
     "data": {
      "image/png": "[encoded data removed]",
      "text/plain": [
       "<Figure size 432x288 with 1 Axes>"
      ]
     },
     "metadata": {
      "needs_background": "light"
     },
     "output_type": "display_data"
    }
   ],
   "source": [
    "kmeans_df3 = KMeans(n_clusters = 2)\n",
    "df3.drop(df3.columns[0],axis=1,inplace=True)\n",
    "\n",
    "df3_orgn=df3.copy()\n",
    "df3_norm=MinMaxScaler().fit(df3_orgn).transform(df3_orgn)\n",
    "kmeans_df3.fit(df3_norm)\n",
    "# y_kmeans = kmeans_df1.fit_predict(df1)\n",
    "plot_labelled_scatter(df3_norm,kmeans_df3.labels_,['Cluster1','Cluster2'])\n",
    "\n",
    "#Create new column for Temperature sensor state labels and Assign cluster ids\n",
    "df3['Temperature sensor state'] = kmeans_df3.labels_\n",
    "\n",
    "df3.loc[df3['Effpower'] == 0,'Temperature sensor state'] = 'off'\n",
    "df3.loc[df3['Effpower'] > 0,'Temperature sensor state'] = 'on'\n",
    "\n",
    "#Assign correspoding values for the labels :\n",
    "# on -1\n",
    "# off -0\n",
    "df3.loc[df3['Effpower'] == 0,'Temperature sensor state'] = 0\n",
    "df3.loc[df3['Effpower'] > 0,'Temperature sensor state'] = 1"
   ]
  },
  {
   "cell_type": "markdown",
   "metadata": {},
   "source": [
    "<h4>Merge datasets</h4>"
   ]
  },
  {
   "cell_type": "markdown",
   "metadata": {},
   "source": [
    "-Since we are done with clustering and labelling each device dataset,we will merge them into one dataset.\n",
    "\n",
    "-Final merged dataset will have combined load values of 3 devices and their corresponding states."
   ]
  },
  {
   "cell_type": "code",
   "execution_count": 10,
   "metadata": {},
   "outputs": [],
   "source": [
    "#Sum the Effective power and Maximum power values of 3 datasets.\n",
    "df_merge = df1.iloc[:,0:2] + df2.iloc[:,0:2] + df3.iloc[:,0:2]\n",
    "#Add states of each devices.\n",
    "df_merge['PC screen1 state']=df1['PC screen1 state']\n",
    "df_merge['PC screen2 state']=df2['PC screen2 state']\n",
    "df_merge['Temperature sensor state']=df3['Temperature sensor state']\n",
    "\n",
    "#As the datasets have unequal number of rows,null values are replaced with 0\n",
    "df_merge = df_merge.fillna(0)"
   ]
  },
  {
   "cell_type": "markdown",
   "metadata": {},
   "source": [
    "-Our dataset is ready for training and we can start training the model using this dataset.\n",
    "\n",
    "-Since this is a multilabel classification problem,I am going to use a python library called 'scikit-multilearn'.\n",
    "\n",
    "-We will use a method called LabelPowerset which is a problem transformation technique.\n",
    "\n",
    "-This technique transforms the problem into a multi-class problem with one multi-class classifier trained on all unique label combinations found in the training data.\n",
    "\n",
    "-For cross validation,we will use a method called 'MultilabelStratifiedKFold' from library 'iterstrat.ml_stratifiers'."
   ]
  },
  {
   "cell_type": "markdown",
   "metadata": {},
   "source": [
    "<h4>Training RandomForest</h4>"
   ]
  },
  {
   "cell_type": "code",
   "execution_count": 11,
   "metadata": {},
   "outputs": [
    {
     "name": "stdout",
     "output_type": "stream",
     "text": [
      "Preparing data..... \n",
      " 1.Drop Date\n",
      " 2.Normalise dataset \n",
      "Training the model.....\n",
      "Cross validating model..... \n",
      "Accuracy Scores\n",
      "----------------------------------------\n",
      "Accuracy score for PC1 screen state: 0.66\n",
      "Accuracy score for PC2 screen state: 0.44\n",
      "Accuracy score for for Temperature sensor state: 0.83\n",
      "Average Accuracy score: 0.64\n"
     ]
    }
   ],
   "source": [
    "# Steps taken for training:\n",
    "\n",
    "#     -Separate features and labels\n",
    "    \n",
    "#     -Create Randomforest model instance using LabelPowerset method\n",
    "    \n",
    "#     -Cross validate the model using MultilabelStratifiedKFold method\n",
    "    \n",
    "\n",
    "from skmultilearn.problem_transform import BinaryRelevance,LabelPowerset\n",
    "from skmultilearn.utils import measure_per_label\n",
    "from sklearn.naive_bayes import GaussianNB\n",
    "from sklearn.ensemble import RandomForestClassifier\n",
    "from sklearn.model_selection import GridSearchCV\n",
    "from sklearn.metrics import f1_score, classification_report,accuracy_score\n",
    "from iterstrat.ml_stratifiers import MultilabelStratifiedKFold\n",
    "from sklearn.preprocessing import StandardScaler\n",
    "import scipy\n",
    "import scipy.sparse as sp\n",
    "\n",
    "RF = LabelPowerset(RandomForestClassifier(n_estimators=20,random_state=42))\n",
    "\n",
    "print('Preparing data..... ')\n",
    "target=df_merge[['PC screen1 state','PC screen2 state','Temperature sensor state']].values\n",
    "df_merge.drop(['PC screen1 state','PC screen2 state','Temperature sensor state'],axis=1,inplace=True)\n",
    "\n",
    "print(' 1.Drop Date')\n",
    "print(' 2.Normalise dataset ')\n",
    "#Normalise data\n",
    "std=StandardScaler()\n",
    "df_merge=std.fit_transform(df_merge)\n",
    "# df_merge=df_merge.reset_index().values\n",
    "\n",
    "#crossvalidate the random forest model on train dataset\n",
    "print('Training the model.....')\n",
    "print('Cross validating model..... ')\n",
    "print('Accuracy Scores')\n",
    "print('-'*40)\n",
    "trained_RF=Cross_validate(df_merge,target,RF)\n"
   ]
  },
  {
   "cell_type": "markdown",
   "metadata": {},
   "source": [
    "<h4>Testing</h4>"
   ]
  },
  {
   "cell_type": "code",
   "execution_count": 12,
   "metadata": {},
   "outputs": [],
   "source": [
    "#test-Make predictions\n",
    "#drop date column before testing\n",
    "df_test.drop(df_test.columns[0],axis=1,inplace=True)\n",
    "\n",
    "#Normalise data\n",
    "std=StandardScaler()\n",
    "df_test=std.fit_transform(df_test)\n",
    "# df_test=df_test.reset_index().values\n",
    "\n",
    "#Use trained randomforest model to make predictions\n",
    "predictions = trained_RF.predict(df_test)\n",
    "\n",
    "df_output=pd.DataFrame()\n",
    "#Extract predicted  state for device -PC1\n",
    "predicted1 = predictions[:,[0]]\n",
    "df_output['PC screen1 state'] = predicted1.toarray().flatten()\n",
    "\n",
    "#Replace labels with device state\n",
    "df_output.loc[df_output['PC screen1 state'] == 0, 'PC screen1 state'] = 'off'\n",
    "df_output.loc[df_output['PC screen1 state'] == 1, 'PC screen1 state'] = 'on'\n",
    "df_output.loc[df_output['PC screen1 state'] == 2, 'PC screen1 state'] = 'idle'\n",
    "\n",
    "#Extract predicted  state  for device -PC2\n",
    "predicted2 = predictions[:,[1]]\n",
    "df_output['PC screen2 state'] = predicted2.toarray().flatten()\n",
    "#Replace labels with device state\n",
    "df_output.loc[df_output['PC screen2 state'] == 0, 'PC screen2 state'] = 'off'\n",
    "df_output.loc[df_output['PC screen2 state'] == 1, 'PC screen2 state'] = 'on'\n",
    "df_output.loc[df_output['PC screen2 state'] == 2, 'PC screen2 state'] = 'idle'\n",
    "\n",
    "\n",
    "#Extract predicted  state  for device -Sensor\n",
    "predicted3 = predictions[:,[2]]\n",
    "df_output['Temperature sensor state'] = predicted3.toarray().flatten()\n",
    "#Replace labels with device state\n",
    "df_output.loc[df_output['Temperature sensor state'] == 0, 'Temperature sensor state'] = 'off'\n",
    "df_output.loc[df_output['Temperature sensor state'] == 1, 'Temperature sensor state'] = 'on'"
   ]
  },
  {
   "cell_type": "markdown",
   "metadata": {},
   "source": [
    "<h4>Save Results</h4>"
   ]
  },
  {
   "cell_type": "code",
   "execution_count": 13,
   "metadata": {},
   "outputs": [],
   "source": [
    "#Create test file\n",
    "df_test= pd.read_csv('test_data1536129670.55_main.csv', \n",
    "                  names=[\"timestamp\", \"Maximum current\", \"Effective current\"])\n",
    "df_output = pd.concat([df_test,df_output], axis=1)\n",
    "df_output.to_csv('Test_Output.csv', index=False)"
   ]
  },
  {
   "cell_type": "code",
   "execution_count": null,
   "metadata": {},
   "outputs": [],
   "source": []
  }
 ],
 "metadata": {
  "kernelspec": {
   "display_name": "Python 3",
   "language": "python",
   "name": "python3"
  },
  "language_info": {
   "codemirror_mode": {
    "name": "ipython",
    "version": 3
   },
   "file_extension": ".py",
   "mimetype": "text/x-python",
   "name": "python",
   "nbconvert_exporter": "python",
   "pygments_lexer": "ipython3",
   "version": "3.6.5"
  }
 },
 "nbformat": 4,
 "nbformat_minor": 2
}
